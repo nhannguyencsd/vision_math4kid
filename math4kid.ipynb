{
 "cells": [
  {
   "cell_type": "code",
   "execution_count": 1,
   "metadata": {},
   "outputs": [],
   "source": [
    "#IMPORT LIBRARIES\n",
    "import torch\n",
    "import torch.nn as nn\n",
    "import torch.nn.functional as F\n",
    "from torchvision import transforms\n",
    "from PIL import Image\n",
    "import matplotlib.pyplot as plt\n",
    "import random\n",
    "%matplotlib inline"
   ]
  },
  {
   "cell_type": "code",
   "execution_count": 2,
   "metadata": {},
   "outputs": [],
   "source": [
    "#HYPER PARMETERS\n",
    "latent_dim = 5 ##latent_dim must be the same value like set_latent_dim in training_cgan.ipynb\n",
    "number_classes = 10 ##number_classes must be the same value like number_classes in training_cgan.ipynb"
   ]
  },
  {
   "cell_type": "code",
   "execution_count": 3,
   "metadata": {},
   "outputs": [],
   "source": [
    "# UTILIZABLE LABEL FUNCTION\n",
    "def random_onehot_labels(batch_size):\n",
    "    labels= []\n",
    "    batch = torch.zeros(batch_size, 10)\n",
    "    for b in batch:\n",
    "        label = random.randint(0, 9)\n",
    "        b[label] = 1\n",
    "        labels.append(label)\n",
    "    return labels, batch\n",
    "\n",
    "# UTILIZABLE MODELS\n",
    "class Flatten(nn.Module):\n",
    "    def forward(self, input):\n",
    "        return input.view(input.size(0), -1) ##input.size(0): batch size\n",
    "##--------------------------------------------------------------------------------------------------------------   \n",
    "class Reshape1(nn.Module):\n",
    "    def forward(self, input):\n",
    "        return input.view(input.size(0), 256, 4, 4)\n",
    "##--------------------------------------------------------------------------------------------------------------   \n",
    "class Concat(nn.Module):\n",
    "    def forward(self, x):\n",
    "        x1 = x[0]\n",
    "        x2 = x[1]\n",
    "        return torch.cat((x1, x2), 1)     "
   ]
  },
  {
   "cell_type": "code",
   "execution_count": 4,
   "metadata": {},
   "outputs": [],
   "source": [
    "#DEFINE MODEL\n",
    "class CGAN(torch.nn.Module): ##CGAN: Conditional Generative Adversarial Network\n",
    "    def __init__(self):\n",
    "        super(CGAN, self).__init__()\n",
    "        ##discrimation part\n",
    "        self.discriminator_img = nn.Sequential(\n",
    "            ###batch_sizex1x32x32 => batch_sizex64x16x16\n",
    "            nn.Conv2d(in_channels=1, out_channels=64, kernel_size=4, stride=2, padding=1),\n",
    "            nn.LeakyReLU(0.2)\n",
    "        )\n",
    "        self.discriminator_y = nn.Sequential(\n",
    "            ###batch_sizex10x32x32 => batch_sizex64x16x16\n",
    "            nn.Conv2d(in_channels=number_classes, out_channels=64, kernel_size=4, stride=2, padding=1),\n",
    "            nn.LeakyReLU(0.2)\n",
    "            \n",
    "        )\n",
    "        self.discriminator = nn.Sequential(\n",
    "            ###batch_sizex128x16x16\n",
    "            Concat(),\n",
    "            ###batch_sizex128x16x16 => batch_sizex256x8x8\n",
    "            nn.Conv2d(in_channels=128, out_channels=256, kernel_size=4, stride=2, padding=1),\n",
    "            nn.BatchNorm2d(256),\n",
    "            nn.LeakyReLU(0.2),\n",
    "            ###batch_sizex256x8x8 => batch_sizex512x4x4\n",
    "            nn.Conv2d(in_channels=256, out_channels=512, kernel_size=4, stride=2, padding=1),\n",
    "            nn.BatchNorm2d(512),\n",
    "            nn.LeakyReLU(0.2),\n",
    "            ###batch_sizex512*4*4\n",
    "            nn.Flatten(),\n",
    "            ###batch_sizex1\n",
    "            nn.Linear(512*4*4, 1, bias=False)\n",
    "        )\n",
    "\n",
    "        ##generator part\n",
    "        self.generator_z = nn.Sequential(\n",
    "            ###batch_sizex256*4*4\n",
    "            nn.Linear(latent_dim, 256*4*4, bias=False),\n",
    "            nn.BatchNorm1d(256*4*4),\n",
    "            nn.LeakyReLU(0.2),\n",
    "            ###batch_sizex256x4x4\n",
    "            Reshape1()\n",
    "        )\n",
    "        self.generator_y = nn.Sequential(\n",
    "            ###batch_sizex256*4*4\n",
    "            nn.Linear(number_classes, 256*4*4, bias=False),\n",
    "            nn.BatchNorm1d(256*4*4),\n",
    "            nn.LeakyReLU(0.2),\n",
    "            ###batch_sizex256x4x4\n",
    "            Reshape1()\n",
    "        )\n",
    "        self.generator = nn.Sequential(\n",
    "            ### batch_sizex512x4x4\n",
    "            Concat(), \n",
    "            ###batch_sizex512x4x4 => batch_sizex256x8x8\n",
    "            nn.ConvTranspose2d(in_channels=512, out_channels=256, kernel_size=4, stride=2, padding=1),\n",
    "            nn.BatchNorm2d(256),\n",
    "            nn.LeakyReLU(0.2),\n",
    "            ###batch_sizex256x8x8 => batch_sizex128x16x16\n",
    "            nn.ConvTranspose2d(in_channels=256, out_channels=128, kernel_size=4, stride=2, padding=1),\n",
    "            nn.BatchNorm2d(128),\n",
    "            nn.LeakyReLU(0.2), \n",
    "            ###batch_sizex128x16x16 => batch_sizex1x32x32\n",
    "            nn.ConvTranspose2d(in_channels=128, out_channels=1, kernel_size=4, stride=2, padding=1),\n",
    "            nn.Tanh()\n",
    "        )     \n",
    "    \n",
    "    def generator_forward(self, z, y):\n",
    "        out1 = self.generator_z(z)\n",
    "        out2 = self.generator_y(y)\n",
    "        return self.generator([out1, out2])\n",
    "    \n",
    "    def discriminator_forward(self, img, y):\n",
    "        out1 = self.discriminator_img(img)\n",
    "        out2 = self.discriminator_y(y)\n",
    "        out = self.discriminator([out1, out2])\n",
    "        return out"
   ]
  },
  {
   "cell_type": "code",
   "execution_count": 5,
   "metadata": {},
   "outputs": [
    {
     "name": "stdout",
     "output_type": "stream",
     "text": [
      "\n"
     ]
    }
   ],
   "source": [
    "#SETUP MODEL\n",
    "#DEVICE AND TRANSFORM\n",
    "##current device\n",
    "device = torch.device(\"cuda:0\" if torch.cuda.is_available() else \"cpu\")\n",
    "##transfrom image\n",
    "custom_transform = transforms.Compose([\n",
    "    transforms.Resize(32),###make image size 32x32\n",
    "    transforms.ToTensor() ###scale input image to 0-1 range\n",
    "])\n",
    "\n",
    "##load model\n",
    "model = CGAN()\n",
    "model.to(device)\n",
    "model.load_state_dict(torch.load('./static/inference/MATH4KID.pt', map_location=device))\n",
    "model.eval() \n",
    "print()"
   ]
  },
  {
   "cell_type": "code",
   "execution_count": 6,
   "metadata": {},
   "outputs": [],
   "source": [
    "##math for kids function \n",
    "def math4kids():\n",
    "    ## make new tensor images\n",
    "    batch_size = 2\n",
    "    z = torch.zeros((batch_size, latent_dim)).uniform_(-1.0, 1.0).to(device)\n",
    "    actual_labels, y = random_onehot_labels(batch_size)\n",
    "    y = y.to(device)\n",
    "    generated_features = model.generator_forward(z, y)\n",
    "    imgs = generated_features.view(-1, 32, 32)\n",
    "\n",
    "    ##operator\n",
    "    operator = random.randint(0, 2)\n",
    "    first_operand, second_operand = actual_labels\n",
    "    if operator == 0: ##addition\n",
    "        image_operator = Image.open('static/inference/plus.jpeg')\n",
    "        result = first_operand + second_operand\n",
    "    elif operator == 1: ## subtraction\n",
    "        image_operator = Image.open('static/inference/minus.jpeg')\n",
    "        result = first_operand - second_operand\n",
    "    else: ## multiplication\n",
    "        image_operator = Image.open('static/inference/time.jpeg')\n",
    "        result = first_operand * second_operand\n",
    "    \n",
    "    ##show operand and operator images\n",
    "    fig = plt.figure(figsize = (10,2.5))\n",
    "    #first operand axis\n",
    "    ax1 = fig.add_subplot(1,5,1)\n",
    "    ax1.axis('off')\n",
    "    ax1.imshow(imgs[0].to(torch.device('cpu')).detach(), cmap='Blues')\n",
    "    ##second operand axis\n",
    "    ax2 = fig.add_subplot(1,5,2)\n",
    "    ax2.axis('off')\n",
    "    ax2.imshow(image_operator)\n",
    "    ## third operand axis\n",
    "    ax3 = fig.add_subplot(1,5,3)\n",
    "    ax3.axis('off')\n",
    "    ax3.imshow(imgs[1].to(torch.device('cpu')).detach(), cmap='Blues')\n",
    "    ## fourth axis\n",
    "    ax4 = fig.add_subplot(1,5,4)\n",
    "    ax4.axis('off')\n",
    "    image_equal = Image.open('static/inference/equal.jpeg')\n",
    "    ax4.imshow(image_equal)\n",
    "    ## fifth axis\n",
    "    ax5 = fig.add_subplot(1,5,5)\n",
    "    ax5.axis('off')\n",
    "    image_question = Image.open('static/inference/question.jpeg')\n",
    "    ax5.imshow(image_question)\n",
    "    plt.show()\n",
    "    \n",
    "    #hit the enter key to submit the answer\n",
    "    kid_answer = input(\"Please type your answer here: \") \n",
    "\n",
    "    #check the answer\n",
    "    first_operand, second_operand = actual_labels\n",
    "    str_operator = ['+', '-', '*']\n",
    "    if int(kid_answer) == result:\n",
    "        print('Way to go!')\n",
    "    else:\n",
    "        print(f'The answer is: {first_operand} {str_operator[operator]} {second_operand} = {result}')\n",
    "        print('Better luck next time!')\n",
    "        "
   ]
  },
  {
   "cell_type": "code",
   "execution_count": 7,
   "metadata": {},
   "outputs": [
    {
     "data": {
      "image/png": "[encoded data removed]",
      "text/plain": [
       "<Figure size 720x180 with 5 Axes>"
      ]
     },
     "metadata": {
      "needs_background": "light"
     },
     "output_type": "display_data"
    },
    {
     "name": "stdout",
     "output_type": "stream",
     "text": [
      "Please type your answer here: 15\n",
      "Way to go!\n"
     ]
    }
   ],
   "source": [
    "math4kids()"
   ]
  },
  {
   "cell_type": "code",
   "execution_count": 8,
   "metadata": {},
   "outputs": [
    {
     "data": {
      "image/png": "[encoded data removed]",
      "text/plain": [
       "<Figure size 720x180 with 5 Axes>"
      ]
     },
     "metadata": {
      "needs_background": "light"
     },
     "output_type": "display_data"
    },
    {
     "name": "stdout",
     "output_type": "stream",
     "text": [
      "Please type your answer here: 93\n",
      "The answer is: 9 + 3 = 12\n",
      "Better luck next time!\n"
     ]
    }
   ],
   "source": [
    "math4kids()"
   ]
  },
  {
   "cell_type": "code",
   "execution_count": 9,
   "metadata": {},
   "outputs": [
    {
     "data": {
      "image/png": "[encoded data removed]",
      "text/plain": [
       "<Figure size 720x180 with 5 Axes>"
      ]
     },
     "metadata": {
      "needs_background": "light"
     },
     "output_type": "display_data"
    },
    {
     "name": "stdout",
     "output_type": "stream",
     "text": [
      "Please type your answer here: 0\n",
      "Way to go!\n"
     ]
    }
   ],
   "source": [
    "math4kids()"
   ]
  },
  {
   "cell_type": "code",
   "execution_count": 10,
   "metadata": {},
   "outputs": [
    {
     "data": {
      "image/png": "[encoded data removed]",
      "text/plain": [
       "<Figure size 720x180 with 5 Axes>"
      ]
     },
     "metadata": {
      "needs_background": "light"
     },
     "output_type": "display_data"
    },
    {
     "name": "stdout",
     "output_type": "stream",
     "text": [
      "Please type your answer here: 12\n",
      "Way to go!\n"
     ]
    }
   ],
   "source": [
    "math4kids()"
   ]
  }
 ],
 "metadata": {
  "kernelspec": {
   "display_name": "Python 3",
   "language": "python",
   "name": "python3"
  },
  "language_info": {
   "codemirror_mode": {
    "name": "ipython",
    "version": 3
   },
   "file_extension": ".py",
   "mimetype": "text/x-python",
   "name": "python",
   "nbconvert_exporter": "python",
   "pygments_lexer": "ipython3",
   "version": "3.6.9"
  }
 },
 "nbformat": 4,
 "nbformat_minor": 4
}
